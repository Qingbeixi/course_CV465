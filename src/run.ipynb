{
 "cells": [
  {
   "cell_type": "code",
   "execution_count": 1,
   "metadata": {},
   "outputs": [],
   "source": [
    "import FASTSim\n",
    "\n",
    "cyc = FASTSim.get_standard_cycle(\"udds\") \n",
    "# we can revise the data in cycle/udds to get different oil consuming data\n",
    "\n",
    "veh = FASTSim.get_veh(4) \n",
    "# vehicle 4 is for Chevrolet malibu\n",
    "\n",
    "output = FASTSim.sim_drive(cyc, veh) \n",
    "# caculate the different parameters eg. the total kilometers. the oil consumption with in the cycle"
   ]
  },
  {
   "cell_type": "code",
   "execution_count": 2,
   "metadata": {},
   "outputs": [
    {
     "name": "stdout",
     "output_type": "stream",
     "text": [
      "the oil consume with this cycle is 34.88103685460756\n"
     ]
    }
   ],
   "source": [
    "print(\"the oil consume with this cycle is\",output['mpgge_elec'])\n",
    "# mpg, Wh/mi, avg engine power, etc) and/or time-series results for component"
   ]
  }
 ],
 "metadata": {
  "kernelspec": {
   "display_name": "Python 3",
   "language": "python",
   "name": "python3"
  },
  "language_info": {
   "codemirror_mode": {
    "name": "ipython",
    "version": 3
   },
   "file_extension": ".py",
   "mimetype": "text/x-python",
   "name": "python",
   "nbconvert_exporter": "python",
   "pygments_lexer": "ipython3",
   "version": "3.7.6"
  }
 },
 "nbformat": 4,
 "nbformat_minor": 4
}
